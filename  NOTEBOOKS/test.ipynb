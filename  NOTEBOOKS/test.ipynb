{
 "cells": [
  {
   "cell_type": "code",
   "execution_count": 2,
   "id": "11e6e866",
   "metadata": {},
   "outputs": [
    {
     "name": "stdout",
     "output_type": "stream",
     "text": [
      "Loading Train set: 112712 samples\n",
      "Train emotion distribution:\n",
      "  N: 36203\n",
      "  H: 24861\n",
      "  X: 20863\n",
      "  A: 10212\n",
      "  S: 9745\n",
      "  U: 3506\n",
      "  C: 2816\n",
      "  O: 1827\n",
      "  D: 1504\n",
      "  F: 1175\n",
      "Dataset length: 112712\n",
      "File: MSP-PODCAST_0001_0028.wav\n",
      "Emotion class: N → label 0\n",
      "Audio shape: torch.Size([67662])\n",
      "Speaker ID: Unknown\n"
     ]
    }
   ],
   "source": [
    "\n",
    "from torch.utils.data import DataLoader\n",
    "import sys\n",
    "sys.path.append(\"../SCRIPTS/data_preprocessing\")\n",
    "\n",
    "from msp_dataset import MSPPodcastDataset, create_dataloaders, analyze_dataset_splits\n",
    "\n",
    "\n",
    "\n",
    "data_dir = \"../DATA\"\n",
    "\n",
    "\n",
    "dataset = MSPPodcastDataset(data_dir, split='Train')\n",
    "\n",
    "\n",
    "print(f\"Dataset length: {len(dataset)}\")\n",
    "\n",
    "sample = dataset[0]\n",
    "print(f\"File: {sample['file_name']}\")\n",
    "print(f\"Emotion class: {sample['emotion_class']} → label {sample['label']}\")\n",
    "print(f\"Audio shape: {sample['audio'].shape}\")\n",
    "print(f\"Speaker ID: {sample['speaker_id']}\")\n"
   ]
  },
  {
   "cell_type": "code",
   "execution_count": 4,
   "id": "ffcff2cd",
   "metadata": {},
   "outputs": [
    {
     "name": "stdout",
     "output_type": "stream",
     "text": [
      "WandB is installed!\n"
     ]
    }
   ],
   "source": [
    "import wandb\n",
    "print(\"WandB is installed!\")\n"
   ]
  },
  {
   "cell_type": "code",
   "execution_count": 6,
   "id": "b454b31b",
   "metadata": {},
   "outputs": [
    {
     "name": "stdout",
     "output_type": "stream",
     "text": [
      "NumPy: 2.2.5\n",
      "scikit-learn: 1.7.0\n"
     ]
    }
   ],
   "source": [
    "import numpy as np\n",
    "import sklearn\n",
    "\n",
    "print(\"NumPy:\", np.__version__)\n",
    "print(\"scikit-learn:\", sklearn.__version__)\n"
   ]
  },
  {
   "cell_type": "code",
   "execution_count": 1,
   "id": "1022810e",
   "metadata": {},
   "outputs": [
    {
     "name": "stdout",
     "output_type": "stream",
     "text": [
      "Python version: 3.10.13 | packaged by conda-forge | (main, Dec 23 2023, 15:35:25) [Clang 16.0.6 ]\n",
      "Sklearn version: 1.7.0\n",
      "Numpy version: 1.26.4\n"
     ]
    }
   ],
   "source": [
    "import sys\n",
    "print(\"Python version:\", sys.version)\n",
    "\n",
    "try:\n",
    "    import sklearn\n",
    "    print(\"Sklearn version:\", sklearn.__version__)\n",
    "except:\n",
    "    print(\"Sklearn not properly installed\")\n",
    "\n",
    "try:\n",
    "    import numpy\n",
    "    print(\"Numpy version:\", numpy.__version__)\n",
    "except:\n",
    "    print(\"Numpy not available\")"
   ]
  },
  {
   "cell_type": "code",
   "execution_count": null,
   "id": "4304a14d",
   "metadata": {},
   "outputs": [
    {
     "name": "stdout",
     "output_type": "stream",
     "text": [
      "Loading Train set: 112712 samples\n",
      "Train emotion distribution:\n",
      "  N: 36203\n",
      "  H: 24861\n",
      "  X: 20863\n",
      "  A: 10212\n",
      "  S: 9745\n",
      "  U: 3506\n",
      "  C: 2816\n",
      "  O: 1827\n",
      "  D: 1504\n",
      "  F: 1175\n",
      "Dataset length: 112712\n",
      "File: MSP-PODCAST_0001_0028.wav\n",
      "Emotion class: N → label 0\n",
      "Audio shape: torch.Size([67662])\n",
      "Speaker ID: Unknown\n"
     ]
    }
   ],
   "source": [
    "\n",
    "from torch.utils.data import DataLoader\n",
    "import sys\n",
    "sys.path.append(\"../SCRIPTS/data_preprocessing\")\n",
    "\n",
    "from msp_dataset import MSPPodcastDataset, create_dataloaders, analyze_dataset_splits\n",
    "\n",
    "\n",
    "\n",
    "data_dir = \"../DATA\"\n",
    "\n",
    "\n",
    "dataset = MSPPodcastDataset(data_dir, split='Train')\n",
    "\n",
    "\n",
    "print(f\"Dataset length: {len(dataset)}\")\n",
    "\n",
    "sample = dataset[0]\n",
    "print(f\"File: {sample['file_name']}\")\n",
    "print(f\"Emotion class: {sample['emotion_class']} → label {sample['label']}\")\n",
    "print(f\"Audio shape: {sample['audio'].shape}\")\n",
    "print(f\"Speaker ID: {sample['speaker_id']}\")\n"
   ]
  },
  {
   "cell_type": "code",
   "execution_count": null,
   "metadata": {},
   "outputs": [],
   "source": []
  }
 ],
 "metadata": {
  "kernelspec": {
   "display_name": "ser_env",
   "language": "python",
   "name": "python3"
  },
  "language_info": {
   "codemirror_mode": {
    "name": "ipython",
    "version": 3
   },
   "file_extension": ".py",
   "mimetype": "text/x-python",
   "name": "python",
   "nbconvert_exporter": "python",
   "pygments_lexer": "ipython3",
   "version": "3.10.13"
  }
 },
 "nbformat": 4,
 "nbformat_minor": 5
}
