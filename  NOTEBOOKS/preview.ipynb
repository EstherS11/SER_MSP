{
 "cells": [
  {
   "cell_type": "code",
   "execution_count": 2,
   "id": "87c0ac70",
   "metadata": {},
   "outputs": [],
   "source": [
    "# ## 1. Setup and Imports\n",
    "import os\n",
    "import pandas as pd\n",
    "import matplotlib.pyplot as plt  # for optional visualizations"
   ]
  },
  {
   "cell_type": "code",
   "execution_count": 3,
   "id": "3394b779",
   "metadata": {},
   "outputs": [],
   "source": [
    "# Define paths relative to the notebook (NOTEBOOKS/)\n",
    "ROOT_DIR = '..'\n",
    "DATA_DIR = os.path.join(ROOT_DIR, 'DATA')\n",
    "AUDIOS_DIR = os.path.join(DATA_DIR, 'Audios')\n",
    "LABELS_CSV = os.path.join(DATA_DIR, 'Labels', 'labels_consensus.csv')\n",
    "PARTITION_FILE = os.path.join(DATA_DIR, 'partition.txt')\n",
    "SPEAKER_FILE = os.path.join(DATA_DIR, 'Speaker_ids.txt')"
   ]
  },
  {
   "cell_type": "code",
   "execution_count": 4,
   "id": "928a9654",
   "metadata": {},
   "outputs": [
    {
     "name": "stdout",
     "output_type": "stream",
     "text": [
      "Total audio files: 207136\n",
      "Sample audio files: ['MSP-PODCAST_3115_1180.wav', 'MSP-PODCAST_5409_1121.wav', 'MSP-PODCAST_4263_0510.wav', 'MSP-PODCAST_2349_0204.wav', 'MSP-PODCAST_5027_0977.wav']\n",
      "Total transcript files: 203936\n",
      "Sample transcript files: ['MSP-PODCAST_2101_0067.txt', 'MSP-PODCAST_1665_0136.txt', 'MSP-PODCAST_0913_2101.txt', 'MSP-PODCAST_5204_0090.txt', 'MSP-PODCAST_0582_0064.txt']\n"
     ]
    }
   ],
   "source": [
    "# ## 7. Count and Preview Audios and Transcripts\n",
    "TRANSCRIPTS_DIR = os.path.join(DATA_DIR, 'Transcripts')\n",
    "\n",
    "# Count audio files\n",
    "audio_files = [f for f in os.listdir(AUDIOS_DIR) if f.endswith('.wav')]\n",
    "print(f\"Total audio files: {len(audio_files)}\")\n",
    "print(\"Sample audio files:\", audio_files[:5])\n",
    "\n",
    "# Count transcript files\n",
    "transcript_files = [f for f in os.listdir(TRANSCRIPTS_DIR) if f.endswith('.txt')]\n",
    "print(f\"Total transcript files: {len(transcript_files)}\")\n",
    "print(\"Sample transcript files:\", transcript_files[:5])"
   ]
  },
  {
   "cell_type": "code",
   "execution_count": 4,
   "id": "68e93363",
   "metadata": {},
   "outputs": [
    {
     "name": "stdout",
     "output_type": "stream",
     "text": [
      "\n",
      "=== Partition Info ===\n"
     ]
    },
    {
     "name": "stdout",
     "output_type": "stream",
     "text": [
      "Series([], Name: count, dtype: int64) \n",
      "\n",
      "=== Speaker IDs Sample ===\n",
      "Speaker_1; Male\n",
      "Speaker_2; Female\n",
      "Speaker_3; Male\n",
      "Speaker_4; Male\n",
      "Speaker_5; Male\n"
     ]
    }
   ],
   "source": [
    "\n",
    "# ## 3. Load Partition and Speaker Info\n",
    "print(\"\\n=== Partition Info ===\")\n",
    "partitions = pd.read_csv(PARTITION_FILE, sep='\\t', names=['utt_id','split'])\n",
    "print(partitions['split'].value_counts(), \"\\n\")\n",
    "\n",
    "# Optional: Load speaker IDs if available\n",
    "SPEAKER_FILE = os.path.join(DATA_DIR, 'Speaker_ids.txt')\n",
    "if os.path.exists(SPEAKER_FILE):\n",
    "    print(\"=== Speaker IDs Sample ===\")\n",
    "    with open(SPEAKER_FILE) as f:\n",
    "        for i, line in enumerate(f):\n",
    "            print(line.strip())\n",
    "            if i >= 4:\n",
    "                break"
   ]
  },
  {
   "cell_type": "code",
   "execution_count": 5,
   "id": "48c11669",
   "metadata": {},
   "outputs": [
    {
     "name": "stdout",
     "output_type": "stream",
     "text": [
      "\n",
      "=== labels_consensus.csv ===\n"
     ]
    },
    {
     "data": {
      "text/html": [
       "<div>\n",
       "<style scoped>\n",
       "    .dataframe tbody tr th:only-of-type {\n",
       "        vertical-align: middle;\n",
       "    }\n",
       "\n",
       "    .dataframe tbody tr th {\n",
       "        vertical-align: top;\n",
       "    }\n",
       "\n",
       "    .dataframe thead th {\n",
       "        text-align: right;\n",
       "    }\n",
       "</style>\n",
       "<table border=\"1\" class=\"dataframe\">\n",
       "  <thead>\n",
       "    <tr style=\"text-align: right;\">\n",
       "      <th></th>\n",
       "      <th>FileName</th>\n",
       "      <th>EmoClass</th>\n",
       "      <th>EmoAct</th>\n",
       "      <th>EmoVal</th>\n",
       "      <th>EmoDom</th>\n",
       "      <th>SpkrID</th>\n",
       "      <th>Gender</th>\n",
       "      <th>Split_Set</th>\n",
       "    </tr>\n",
       "  </thead>\n",
       "  <tbody>\n",
       "    <tr>\n",
       "      <th>0</th>\n",
       "      <td>MSP-PODCAST_0001_0008.wav</td>\n",
       "      <td>N</td>\n",
       "      <td>2.200000</td>\n",
       "      <td>4.000000</td>\n",
       "      <td>2.600000</td>\n",
       "      <td>30</td>\n",
       "      <td>Male</td>\n",
       "      <td>Test1</td>\n",
       "    </tr>\n",
       "    <tr>\n",
       "      <th>1</th>\n",
       "      <td>MSP-PODCAST_0001_0009.wav</td>\n",
       "      <td>N</td>\n",
       "      <td>3.777778</td>\n",
       "      <td>3.555556</td>\n",
       "      <td>3.777778</td>\n",
       "      <td>39</td>\n",
       "      <td>Male</td>\n",
       "      <td>Test1</td>\n",
       "    </tr>\n",
       "    <tr>\n",
       "      <th>2</th>\n",
       "      <td>MSP-PODCAST_0001_0011.wav</td>\n",
       "      <td>N</td>\n",
       "      <td>4.125000</td>\n",
       "      <td>4.750000</td>\n",
       "      <td>4.000000</td>\n",
       "      <td>39</td>\n",
       "      <td>Male</td>\n",
       "      <td>Test1</td>\n",
       "    </tr>\n",
       "    <tr>\n",
       "      <th>3</th>\n",
       "      <td>MSP-PODCAST_0001_0013.wav</td>\n",
       "      <td>N</td>\n",
       "      <td>3.000000</td>\n",
       "      <td>3.750000</td>\n",
       "      <td>3.166667</td>\n",
       "      <td>39</td>\n",
       "      <td>Male</td>\n",
       "      <td>Test1</td>\n",
       "    </tr>\n",
       "    <tr>\n",
       "      <th>4</th>\n",
       "      <td>MSP-PODCAST_0001_0016.wav</td>\n",
       "      <td>N</td>\n",
       "      <td>2.400000</td>\n",
       "      <td>4.200000</td>\n",
       "      <td>2.800000</td>\n",
       "      <td>30</td>\n",
       "      <td>Male</td>\n",
       "      <td>Test1</td>\n",
       "    </tr>\n",
       "  </tbody>\n",
       "</table>\n",
       "</div>"
      ],
      "text/plain": [
       "                    FileName EmoClass    EmoAct    EmoVal    EmoDom SpkrID  \\\n",
       "0  MSP-PODCAST_0001_0008.wav        N  2.200000  4.000000  2.600000     30   \n",
       "1  MSP-PODCAST_0001_0009.wav        N  3.777778  3.555556  3.777778     39   \n",
       "2  MSP-PODCAST_0001_0011.wav        N  4.125000  4.750000  4.000000     39   \n",
       "3  MSP-PODCAST_0001_0013.wav        N  3.000000  3.750000  3.166667     39   \n",
       "4  MSP-PODCAST_0001_0016.wav        N  2.400000  4.200000  2.800000     30   \n",
       "\n",
       "  Gender Split_Set  \n",
       "0   Male     Test1  \n",
       "1   Male     Test1  \n",
       "2   Male     Test1  \n",
       "3   Male     Test1  \n",
       "4   Male     Test1  "
      ]
     },
     "metadata": {},
     "output_type": "display_data"
    },
    {
     "name": "stdout",
     "output_type": "stream",
     "text": [
      "\n",
      "=== labels_detailed.csv ===\n"
     ]
    },
    {
     "data": {
      "text/html": [
       "<div>\n",
       "<style scoped>\n",
       "    .dataframe tbody tr th:only-of-type {\n",
       "        vertical-align: middle;\n",
       "    }\n",
       "\n",
       "    .dataframe tbody tr th {\n",
       "        vertical-align: top;\n",
       "    }\n",
       "\n",
       "    .dataframe thead th {\n",
       "        text-align: right;\n",
       "    }\n",
       "</style>\n",
       "<table border=\"1\" class=\"dataframe\">\n",
       "  <thead>\n",
       "    <tr style=\"text-align: right;\">\n",
       "      <th></th>\n",
       "      <th>FileName</th>\n",
       "      <th>EmoDetail</th>\n",
       "    </tr>\n",
       "  </thead>\n",
       "  <tbody>\n",
       "    <tr>\n",
       "      <th>0</th>\n",
       "      <td>MSP-PODCAST_0001_0008.wav</td>\n",
       "      <td>WORKER00000041; Neutral; Neutral,Confused; A:1...</td>\n",
       "    </tr>\n",
       "    <tr>\n",
       "      <th>1</th>\n",
       "      <td>MSP-PODCAST_0001_0008.wav</td>\n",
       "      <td>WORKER00000042; Neutral; Neutral; A:4.000000; ...</td>\n",
       "    </tr>\n",
       "    <tr>\n",
       "      <th>2</th>\n",
       "      <td>MSP-PODCAST_0001_0008.wav</td>\n",
       "      <td>WORKER00000037; Sad; Sad,Depressed,Confused; A...</td>\n",
       "    </tr>\n",
       "    <tr>\n",
       "      <th>3</th>\n",
       "      <td>MSP-PODCAST_0001_0008.wav</td>\n",
       "      <td>WORKER00000085; Neutral; Neutral,Concerned; A:...</td>\n",
       "    </tr>\n",
       "    <tr>\n",
       "      <th>4</th>\n",
       "      <td>MSP-PODCAST_0001_0008.wav</td>\n",
       "      <td>WORKER00014342; Neutral; Neutral; A:2.000000; ...</td>\n",
       "    </tr>\n",
       "  </tbody>\n",
       "</table>\n",
       "</div>"
      ],
      "text/plain": [
       "                    FileName  \\\n",
       "0  MSP-PODCAST_0001_0008.wav   \n",
       "1  MSP-PODCAST_0001_0008.wav   \n",
       "2  MSP-PODCAST_0001_0008.wav   \n",
       "3  MSP-PODCAST_0001_0008.wav   \n",
       "4  MSP-PODCAST_0001_0008.wav   \n",
       "\n",
       "                                           EmoDetail  \n",
       "0  WORKER00000041; Neutral; Neutral,Confused; A:1...  \n",
       "1  WORKER00000042; Neutral; Neutral; A:4.000000; ...  \n",
       "2  WORKER00000037; Sad; Sad,Depressed,Confused; A...  \n",
       "3  WORKER00000085; Neutral; Neutral,Concerned; A:...  \n",
       "4  WORKER00014342; Neutral; Neutral; A:2.000000; ...  "
      ]
     },
     "metadata": {},
     "output_type": "display_data"
    },
    {
     "name": "stdout",
     "output_type": "stream",
     "text": [
      "\n",
      "=== labels_consensus.json ===\n",
      "MSP-PODCAST_0001_0008.wav: {'EmoClass': 'N', 'EmoAct': 2.2, 'EmoDom': 2.6, 'EmoVal': 4.0, 'SpkrID': '30', 'Gender': 'Male', 'Split_Set': 'Test1'}\n",
      "MSP-PODCAST_0001_0009.wav: {'EmoClass': 'N', 'EmoAct': 3.777778, 'EmoDom': 3.777778, 'EmoVal': 3.555556, 'SpkrID': '39', 'Gender': 'Male', 'Split_Set': 'Test1'}\n",
      "MSP-PODCAST_0001_0011.wav: {'EmoClass': 'N', 'EmoAct': 4.125, 'EmoDom': 4.0, 'EmoVal': 4.75, 'SpkrID': '39', 'Gender': 'Male', 'Split_Set': 'Test1'}\n",
      "MSP-PODCAST_0001_0013.wav: {'EmoClass': 'N', 'EmoAct': 3.0, 'EmoDom': 3.166667, 'EmoVal': 3.75, 'SpkrID': '39', 'Gender': 'Male', 'Split_Set': 'Test1'}\n",
      "MSP-PODCAST_0001_0016.wav: {'EmoClass': 'N', 'EmoAct': 2.4, 'EmoDom': 2.8, 'EmoVal': 4.2, 'SpkrID': '30', 'Gender': 'Male', 'Split_Set': 'Test1'}\n",
      "\n",
      "=== labels_detailed.json ===\n",
      "MSP-PODCAST_0001_0008.wav: {'WORKER00000041': {'EmoClass_Major': 'Neutral', 'EmoClass_Second': 'Neutral,Confused', 'EmoAct': 1.0, 'EmoDom': 1.0, 'EmoVal': 4.0}, 'WORKER00000042': {'EmoClass_Major': 'Neutral', 'EmoClass_Second': 'Neutral', 'EmoAct': 4.0, 'EmoDom': 4.0, 'EmoVal': 4.0}, 'WORKER00000037': {'EmoClass_Major': 'Sad', 'EmoClass_Second': 'Sad,Depressed,Confused', 'EmoAct': 2.0, 'EmoDom': 1.0, 'EmoVal': 4.0}, 'WORKER00000085': {'EmoClass_Major': 'Neutral', 'EmoClass_Second': 'Neutral,Concerned', 'EmoAct': 2.0, 'EmoDom': 4.0, 'EmoVal': 4.0}, 'WORKER00014342': {'EmoClass_Major': 'Neutral', 'EmoClass_Second': 'Neutral', 'EmoAct': 2.0, 'EmoDom': 3.0, 'EmoVal': 4.0}}\n",
      "MSP-PODCAST_0001_0009.wav: {'WORKER00000415': {'EmoClass_Major': 'Sad', 'EmoClass_Second': 'Sad,Frustrated,Disappointed,Annoyed', 'EmoAct': 5.0, 'EmoDom': 5.0, 'EmoVal': 3.0}, 'WORKER00000417': {'EmoClass_Major': 'Other-confused', 'EmoClass_Second': 'Disgust,Confused', 'EmoAct': 5.0, 'EmoDom': 5.0, 'EmoVal': 4.0}, 'WORKER00000419': {'EmoClass_Major': 'Other-Confused', 'EmoClass_Second': 'Neutral,Confused,Other-Hopeful', 'EmoAct': 4.0, 'EmoDom': 3.0, 'EmoVal': 3.0}, 'WORKER00000420': {'EmoClass_Major': 'Neutral', 'EmoClass_Second': 'Neutral,Contempt', 'EmoAct': 2.0, 'EmoDom': 3.0, 'EmoVal': 4.0}, 'WORKER00000421': {'EmoClass_Major': 'Neutral', 'EmoClass_Second': 'Neutral', 'EmoAct': 4.0, 'EmoDom': 4.0, 'EmoVal': 4.0}, 'WORKER00000462': {'EmoClass_Major': 'Neutral', 'EmoClass_Second': 'Neutral', 'EmoAct': 2.0, 'EmoDom': 2.0, 'EmoVal': 4.0}, 'WORKER00000541': {'EmoClass_Major': 'Neutral', 'EmoClass_Second': 'Neutral,Excited,Other-INTERESTED', 'EmoAct': 5.0, 'EmoDom': 5.0, 'EmoVal': 5.0}, 'WORKER00000542': {'EmoClass_Major': 'Surprise', 'EmoClass_Second': 'Surprise,Confused', 'EmoAct': 5.0, 'EmoDom': 6.0, 'EmoVal': 3.0}, 'WORKER00000544': {'EmoClass_Major': 'Fear', 'EmoClass_Second': 'Surprise,Concerned,Confused', 'EmoAct': 2.0, 'EmoDom': 1.0, 'EmoVal': 2.0}}\n",
      "MSP-PODCAST_0001_0011.wav: {'WORKER00000238': {'EmoClass_Major': 'Neutral', 'EmoClass_Second': 'Concerned', 'EmoAct': 4.0, 'EmoDom': 3.0, 'EmoVal': 5.0}, 'WORKER00000122': {'EmoClass_Major': 'Neutral', 'EmoClass_Second': 'Neutral', 'EmoAct': 3.0, 'EmoDom': 3.0, 'EmoVal': 4.0}, 'WORKER00000241': {'EmoClass_Major': 'Neutral', 'EmoClass_Second': 'Happy,Amused', 'EmoAct': 5.0, 'EmoDom': 4.0, 'EmoVal': 5.0}, 'WORKER00000242': {'EmoClass_Major': 'Neutral', 'EmoClass_Second': 'Happy', 'EmoAct': 5.0, 'EmoDom': 5.0, 'EmoVal': 5.0}, 'WORKER00000254': {'EmoClass_Major': 'Neutral', 'EmoClass_Second': 'Neutral', 'EmoAct': 4.0, 'EmoDom': 4.0, 'EmoVal': 4.0}, 'WORKER00000626': {'EmoClass_Major': 'Neutral', 'EmoClass_Second': 'Neutral', 'EmoAct': 2.0, 'EmoDom': 2.0, 'EmoVal': 4.0}, 'WORKER00000627': {'EmoClass_Major': 'Happy', 'EmoClass_Second': 'Happy,Excited', 'EmoAct': 5.0, 'EmoDom': 7.0, 'EmoVal': 7.0}, 'WORKER00000720': {'EmoClass_Major': 'Happy', 'EmoClass_Second': 'Happy', 'EmoAct': 4.0, 'EmoDom': 4.0, 'EmoVal': 6.0}, 'WORKER00000907': {'EmoClass_Major': 'Happy', 'EmoClass_Second': 'Happy,Neutral', 'EmoAct': 2.0, 'EmoDom': 4.0, 'EmoVal': 4.0}, 'WORKER00000946': {'EmoClass_Major': 'Happy', 'EmoClass_Second': 'Excited', 'EmoAct': 3.0, 'EmoDom': 3.0, 'EmoVal': 5.0}, 'WORKER00000977': {'EmoClass_Major': 'Neutral', 'EmoClass_Second': 'Amused,Neutral', 'EmoAct': 3.0, 'EmoDom': 3.0, 'EmoVal': 4.0}, 'WORKER00000427': {'EmoClass_Major': 'Happy', 'EmoClass_Second': 'Happy,Excited', 'EmoAct': 6.0, 'EmoDom': 5.0, 'EmoVal': 5.0}, 'WORKER00000265': {'EmoClass_Major': 'Neutral', 'EmoClass_Second': 'Neutral', 'EmoAct': 5.0, 'EmoDom': 4.0, 'EmoVal': 4.0}, 'WORKER00000342': {'EmoClass_Major': 'Neutral', 'EmoClass_Second': 'Excited', 'EmoAct': 5.0, 'EmoDom': 4.0, 'EmoVal': 5.0}, 'WORKER00001144': {'EmoClass_Major': 'Happy', 'EmoClass_Second': 'Happy,Excited', 'EmoAct': 5.0, 'EmoDom': 5.0, 'EmoVal': 5.0}, 'WORKER00005823': {'EmoClass_Major': 'Disgust', 'EmoClass_Second': 'Depressed', 'EmoAct': 5.0, 'EmoDom': 4.0, 'EmoVal': 4.0}}\n",
      "MSP-PODCAST_0001_0013.wav: {'WORKER00000421': {'EmoClass_Major': 'Neutral', 'EmoClass_Second': 'Neutral', 'EmoAct': 4.0, 'EmoDom': 4.0, 'EmoVal': 4.0}, 'WORKER00000281': {'EmoClass_Major': 'Contempt', 'EmoClass_Second': 'Disgust', 'EmoAct': 2.0, 'EmoDom': 2.0, 'EmoVal': 4.0}, 'WORKER00000424': {'EmoClass_Major': 'Neutral', 'EmoClass_Second': 'Neutral', 'EmoAct': 2.0, 'EmoDom': 2.0, 'EmoVal': 4.0}, 'WORKER00000425': {'EmoClass_Major': 'Sad', 'EmoClass_Second': 'Sad,Depressed,Disappointed', 'EmoAct': 2.0, 'EmoDom': 2.0, 'EmoVal': 3.0}, 'WORKER00000427': {'EmoClass_Major': 'Happy', 'EmoClass_Second': 'Amused,Concerned,Excited', 'EmoAct': 5.0, 'EmoDom': 5.0, 'EmoVal': 5.0}, 'WORKER00000546': {'EmoClass_Major': 'Contempt', 'EmoClass_Second': 'Frustrated,Disappointed,Contempt', 'EmoAct': 3.0, 'EmoDom': 3.0, 'EmoVal': 3.0}, 'WORKER00000548': {'EmoClass_Major': 'Sad', 'EmoClass_Second': 'Sad,Concerned,Annoyed', 'EmoAct': 2.0, 'EmoDom': 3.0, 'EmoVal': 3.0}, 'WORKER00000549': {'EmoClass_Major': 'Neutral', 'EmoClass_Second': 'Neutral', 'EmoAct': 1.0, 'EmoDom': 2.0, 'EmoVal': 4.0}, 'WORKER00000550': {'EmoClass_Major': 'Neutral', 'EmoClass_Second': 'Neutral', 'EmoAct': 1.0, 'EmoDom': 2.0, 'EmoVal': 4.0}, 'WORKER00000551': {'EmoClass_Major': 'Neutral', 'EmoClass_Second': 'Concerned,Annoyed', 'EmoAct': 5.0, 'EmoDom': 5.0, 'EmoVal': 3.0}, 'WORKER00000254': {'EmoClass_Major': 'Neutral', 'EmoClass_Second': 'Neutral', 'EmoAct': 4.0, 'EmoDom': 4.0, 'EmoVal': 4.0}, 'WORKER00000669': {'EmoClass_Major': 'Neutral', 'EmoClass_Second': 'Frustrated', 'EmoAct': 5.0, 'EmoDom': 4.0, 'EmoVal': 4.0}}\n",
      "MSP-PODCAST_0001_0016.wav: {'WORKER00002575': {'EmoClass_Major': 'Neutral', 'EmoClass_Second': 'Neutral', 'EmoAct': 4.0, 'EmoDom': 4.0, 'EmoVal': 4.0}, 'WORKER00002176': {'EmoClass_Major': 'Other-uncertain', 'EmoClass_Second': 'Confused,Other-uncertain', 'EmoAct': 3.0, 'EmoDom': 4.0, 'EmoVal': 4.0}, 'WORKER00000342': {'EmoClass_Major': 'Neutral', 'EmoClass_Second': 'Neutral', 'EmoAct': 1.0, 'EmoDom': 3.0, 'EmoVal': 5.0}, 'WORKER00002612': {'EmoClass_Major': 'Neutral', 'EmoClass_Second': 'Surprise,Concerned', 'EmoAct': 2.0, 'EmoDom': 1.0, 'EmoVal': 4.0}, 'WORKER00001670': {'EmoClass_Major': 'Neutral', 'EmoClass_Second': 'Sad,Neutral,Depressed', 'EmoAct': 2.0, 'EmoDom': 2.0, 'EmoVal': 4.0}}\n",
      "\n",
      "=== labels.txt ===\n",
      "MSP-PODCAST_0001_0008.wav; N; A:2.200000; V:4.000000; D:2.600000;\n",
      "WORKER00000041; Neutral; Neutral,Confused; A:1.000000; V:4.000000; D:1.000000;\n",
      "WORKER00000042; Neutral; Neutral; A:4.000000; V:4.000000; D:4.000000;\n",
      "WORKER00000037; Sad; Sad,Depressed,Confused; A:2.000000; V:4.000000; D:1.000000;\n",
      "WORKER00000085; Neutral; Neutral,Concerned; A:2.000000; V:4.000000; D:4.000000;\n"
     ]
    }
   ],
   "source": [
    "import json\n",
    "\n",
    "LABELS_DIR = os.path.join(DATA_DIR, 'Labels')\n",
    "\n",
    "# 1. labels_consensus.csv\n",
    "print(\"\\n=== labels_consensus.csv ===\")\n",
    "consensus_csv = pd.read_csv(os.path.join(LABELS_DIR, 'labels_consensus.csv'))\n",
    "display(consensus_csv.head())\n",
    "\n",
    "# 2. labels_detailed.csv\n",
    "print(\"\\n=== labels_detailed.csv ===\")\n",
    "detailed_csv = pd.read_csv(os.path.join(LABELS_DIR, 'labels_detailed.csv'))\n",
    "display(detailed_csv.head())\n",
    "\n",
    "# 3. labels_consensus.json\n",
    "print(\"\\n=== labels_consensus.json ===\")\n",
    "with open(os.path.join(LABELS_DIR, 'labels_consensus.json')) as f:\n",
    "    consensus_json = json.load(f)\n",
    "    for i, (k, v) in enumerate(consensus_json.items()):\n",
    "        print(f\"{k}: {v}\")\n",
    "        if i >= 4: break\n",
    "\n",
    "# 4. labels_detailed.json\n",
    "print(\"\\n=== labels_detailed.json ===\")\n",
    "with open(os.path.join(LABELS_DIR, 'labels_detailed.json')) as f:\n",
    "    detailed_json = json.load(f)\n",
    "    for i, (k, v) in enumerate(detailed_json.items()):\n",
    "        print(f\"{k}: {v}\")\n",
    "        if i >= 4: break\n",
    "\n",
    "# 5. labels.txt\n",
    "print(\"\\n=== labels.txt ===\")\n",
    "with open(os.path.join(LABELS_DIR, 'labels.txt')) as f:\n",
    "    for i, line in enumerate(f):\n",
    "        print(line.strip())\n",
    "        if i >= 4: break\n"
   ]
  },
  {
   "cell_type": "code",
   "execution_count": 6,
   "id": "9605bc5b",
   "metadata": {},
   "outputs": [
    {
     "name": "stdout",
     "output_type": "stream",
     "text": [
      "=== Split_Set Distribution ===\n",
      "Split_Set\n",
      "Train          112712\n",
      "Test1           44395\n",
      "Development     31961\n",
      "Test2           14868\n",
      "Name: count, dtype: int64\n"
     ]
    },
    {
     "data": {
      "image/png": "[encoded data removed]",
      "text/plain": [
       "<Figure size 640x480 with 1 Axes>"
      ]
     },
     "metadata": {},
     "output_type": "display_data"
    }
   ],
   "source": [
    "\n",
    "split_counts = consensus_csv['Split_Set'].value_counts()\n",
    "print(\"=== Split_Set Distribution ===\")\n",
    "print(split_counts)\n",
    "split_counts.plot(kind='bar', title='Split_Set Distibution', xlabel='Split_Set', ylabel='# of samples')\n",
    "plt.tight_layout()\n",
    "plt.show()\n"
   ]
  },
  {
   "cell_type": "code",
   "execution_count": 7,
   "id": "6c742d75",
   "metadata": {},
   "outputs": [
    {
     "name": "stdout",
     "output_type": "stream",
     "text": [
      "Number of training samples: 112712\n",
      "=== Emotion class distribution in training set ===\n",
      "EmoClass\n",
      "N    36203\n",
      "H    24861\n",
      "X    20863\n",
      "A    10212\n",
      "S     9745\n",
      "U     3506\n",
      "C     2816\n",
      "O     1827\n",
      "D     1504\n",
      "F     1175\n",
      "Name: count, dtype: int64\n"
     ]
    },
    {
     "data": {
      "image/png": "[encoded data removed]",
      "text/plain": [
       "<Figure size 640x480 with 1 Axes>"
      ]
     },
     "metadata": {},
     "output_type": "display_data"
    }
   ],
   "source": [
    "# Filter rows where Split_Set indicates training set\n",
    "train_df = consensus_csv[consensus_csv['Split_Set'].str.contains('Train', case=False)]\n",
    "print(f\"Number of training samples: {len(train_df)}\")\n",
    "\n",
    "# Count emotion class distribution in training set\n",
    "emo_counts = train_df['EmoClass'].value_counts()\n",
    "print(\"=== Emotion class distribution in training set ===\")\n",
    "print(emo_counts)\n",
    "\n",
    "# Optional: bar plot\n",
    "emo_counts.plot(kind='bar', title='Emotion Class Distribution in Train Set', xlabel='EmoClass', ylabel='Count')\n",
    "plt.tight_layout()\n",
    "plt.show()\n"
   ]
  },
  {
   "cell_type": "code",
   "execution_count": 8,
   "id": "996b76fd",
   "metadata": {},
   "outputs": [
    {
     "name": "stdout",
     "output_type": "stream",
     "text": [
      "Number of unique speakers in training set: 2113\n"
     ]
    }
   ],
   "source": [
    "# Count number of unique speakers in the training set\n",
    "num_speakers = train_df['SpkrID'].nunique()\n",
    "print(f\"Number of unique speakers in training set: {num_speakers}\")\n"
   ]
  },
  {
   "cell_type": "code",
   "execution_count": 9,
   "id": "859724a8",
   "metadata": {},
   "outputs": [
    {
     "name": "stdout",
     "output_type": "stream",
     "text": [
      "Number of fully duplicated rows: 0\n"
     ]
    }
   ],
   "source": [
    "# Check for exact duplicate rows in the entire DataFrame\n",
    "duplicate_rows = consensus_csv[consensus_csv.duplicated()]\n",
    "print(f\"Number of fully duplicated rows: {len(duplicate_rows)}\")\n",
    "\n",
    "# Show a few examples if any exist\n",
    "if not duplicate_rows.empty:\n",
    "    print(\"Sample duplicate rows:\")\n",
    "    display(duplicate_rows.head())\n"
   ]
  },
  {
   "cell_type": "code",
   "execution_count": 7,
   "id": "e73e5a61",
   "metadata": {},
   "outputs": [
    {
     "name": "stdout",
     "output_type": "stream",
     "text": [
      "\n",
      "=== labels_consensus.csv ===\n",
      "Total length (number of rows): 203936\n",
      "\n",
      "=== Number of Samples per Split_Set ===\n",
      "Split_Set\n",
      "Train          112712\n",
      "Test1           44395\n",
      "Development     31961\n",
      "Test2           14868\n",
      "Name: count, dtype: int64\n",
      "\n",
      "========================================\n",
      "\n",
      "=== Detailed Statistics within each Split_Set ===\n",
      "             Unique_EmoClass_Count  Unique_SpkrID_Count  Unique_Gender_Count\n",
      "Split_Set                                                                   \n",
      "Development                     10                  714                    2\n",
      "Test1                           10                  315                    2\n",
      "Test2                           10                  113                    3\n",
      "Train                           10                 2113                    3\n"
     ]
    }
   ],
   "source": [
    "# Assume the consensus_csv DataFrame is already loaded, for example:\n",
    "# consensus_csv = pd.read_csv(os.path.join(LABELS_DIR, 'labels_consensus.csv'))\n",
    "print(\"\\n=== labels_consensus.csv ===\")\n",
    "# 1. Get the total length of the DataFrame\n",
    "total_length = len(consensus_csv)\n",
    "print(f\"Total length (number of rows): {total_length}\\n\")\n",
    "\n",
    "# 2. Count the number of samples for each Split_Set\n",
    "print(\"=== Number of Samples per Split_Set ===\")\n",
    "split_counts = consensus_csv['Split_Set'].value_counts()\n",
    "print(split_counts)\n",
    "print(\"\\n\" + \"=\"*40 + \"\\n\")\n",
    "\n",
    "\n",
    "# 3. Within each Split_Set, count the number of unique values for EmoClass, SpkrID, and Gender\n",
    "print(\"=== Detailed Statistics within each Split_Set ===\")\n",
    "# Group by 'Split_Set'\n",
    "# Then use agg (aggregate) to apply the nunique (number of unique) function to specified columns\n",
    "detailed_stats = consensus_csv.groupby('Split_Set').agg({\n",
    "    'EmoClass': 'nunique',\n",
    "    'SpkrID': 'nunique',\n",
    "    'Gender': 'nunique'\n",
    "})\n",
    "\n",
    "# For clarity, rename the columns to be more descriptive\n",
    "detailed_stats.rename(columns={\n",
    "    'EmoClass': 'Unique_EmoClass_Count',\n",
    "    'SpkrID': 'Unique_SpkrID_Count',\n",
    "    'Gender': 'Unique_Gender_Count'\n",
    "}, inplace=True)\n",
    "\n",
    "print(detailed_stats)"
   ]
  },
  {
   "cell_type": "code",
   "execution_count": 9,
   "id": "3a308738",
   "metadata": {},
   "outputs": [
    {
     "name": "stdout",
     "output_type": "stream",
     "text": [
      "Total number of lines: 207136\n",
      "\n",
      "=== Count for each Label ===\n",
      "label\n",
      "Train          112712\n",
      "Test1           44395\n",
      "Development     31961\n",
      "Test2           14868\n",
      "Test3            3200\n",
      "Name: count, dtype: int64\n"
     ]
    }
   ],
   "source": [
    "import pandas as pd\n",
    "\n",
    "# --- Modify here: specify your filename ---\n",
    "file_path = os.path.join(DATA_DIR, 'partition.txt')\n",
    "\n",
    "try:\n",
    "    # Read the file, specify semicolon ';' as the separator, and indicate no header\n",
    "    df = pd.read_csv(file_path, sep=';', header=None, names=['label', 'filename'])\n",
    "\n",
    "    # 1. Get the total number of lines (which is the length of the DataFrame)\n",
    "    total_lines = len(df)\n",
    "    print(f\"Total number of lines: {total_lines}\\n\")\n",
    "\n",
    "    # 2. Count the occurrences of each value in the 'label' column\n",
    "    print(\"=== Count for each Label ===\")\n",
    "    label_counts = df['label'].value_counts()\n",
    "    print(label_counts)\n",
    "\n",
    "except FileNotFoundError:\n",
    "    print(f\"Error: File '{file_path}' not found. Please ensure the filename is correct and it is in the right path.\")\n",
    "except Exception as e:\n",
    "    print(f\"An error occurred while processing the file: {e}\")"
   ]
  },
  {
   "cell_type": "code",
   "execution_count": 10,
   "id": "64319724",
   "metadata": {},
   "outputs": [
    {
     "name": "stdout",
     "output_type": "stream",
     "text": [
      "Reading data from '../DATA/partition.txt'...\n",
      "Successfully filtered the data.\n",
      "A new file named 'partition_test3.csv' has been created with 3200 rows.\n"
     ]
    }
   ],
   "source": [
    "\n",
    "# Define the input file from which to read\n",
    "input_file_path = os.path.join(DATA_DIR, 'partition.txt')\n",
    "\n",
    "# Define the name for the new output CSV file\n",
    "output_file_path = 'partition_test3.csv'\n",
    "\n",
    "print(f\"Reading data from '{input_file_path}'...\")\n",
    "\n",
    "try:\n",
    "    # Step 1: Read the original partition file using pandas\n",
    "    # The file is separated by semicolons and has no header row\n",
    "    df = pd.read_csv(input_file_path, sep=';', header=None, names=['label', 'filename'])\n",
    "\n",
    "    # Step 2: Filter the DataFrame to keep only the rows where the 'label' is 'Test3'\n",
    "    # We use boolean indexing for this operation.\n",
    "    # .copy() is used to avoid a potential SettingWithCopyWarning later.\n",
    "    test3_df = df[df['label'] == 'Test3'].copy()\n",
    "\n",
    "    # Step 3: Check if any data for 'Test3' was found before saving\n",
    "    if not test3_df.empty:\n",
    "        # Step 4: Save the filtered DataFrame to a new CSV file\n",
    "        # index=False ensures that the DataFrame index (0, 1, 2, ...) is not written into the CSV file\n",
    "        test3_df.to_csv(output_file_path, index=False)\n",
    "        \n",
    "        print(f\"Successfully filtered the data.\")\n",
    "        print(f\"A new file named '{output_file_path}' has been created with {len(test3_df)} rows.\")\n",
    "\n",
    "    else:\n",
    "        # This message will be shown if no lines with 'Test3' are found\n",
    "        print(\"No entries with the label 'Test3' were found in the input file.\")\n",
    "        print(\"No output file was created.\")\n",
    "\n",
    "except FileNotFoundError:\n",
    "    print(f\"Error: The input file '{input_file_path}' was not found. Please make sure it is in the same directory.\")\n",
    "except Exception as e:\n",
    "    print(f\"An error occurred: {e}\")"
   ]
  },
  {
   "cell_type": "code",
   "execution_count": 11,
   "id": "c98ea2c8",
   "metadata": {},
   "outputs": [
    {
     "name": "stdout",
     "output_type": "stream",
     "text": [
      "\n",
      "=== Test3 Data ===\n",
      "   label                     filename\n",
      "0  Test3   MSP-PODCAST_test3_0001.wav\n",
      "1  Test3   MSP-PODCAST_test3_0002.wav\n",
      "2  Test3   MSP-PODCAST_test3_0003.wav\n",
      "3  Test3   MSP-PODCAST_test3_0004.wav\n",
      "4  Test3   MSP-PODCAST_test3_0005.wav\n"
     ]
    }
   ],
   "source": [
    "test3_csv = pd.read_csv('partition_test3.csv')\n",
    "print(\"\\n=== Test3 Data ===\")\n",
    "print(test3_csv.head())"
   ]
  },
  {
   "cell_type": "code",
   "execution_count": null,
   "id": "c768064c",
   "metadata": {},
   "outputs": [
    {
     "name": "stdout",
     "output_type": "stream",
     "text": [
      "--- Analyzing '../DATA/Labels/labels_consensus.json' ---\n",
      "Result: The file contains 203936 main entries (audio files).\n",
      "\n",
      "--- Analyzing '../DATA/Labels/labels.txt' ---\n",
      "Result: The file has 1534731 lines.\n"
     ]
    }
   ],
   "source": [
    "import json\n",
    "\n",
    "# --- File Paths to Check ---\n",
    "json_file_path = os.path.join(LABELS_DIR, 'labels_detailed.json')\n",
    "txt_file_path = os.path.join(LABELS_DIR, 'labels.txt')\n",
    "\n",
    "\n",
    "# --- 1. Calculate length for labels_detailed.json ---\n",
    "print(f\"--- Analyzing '{json_file_path}' ---\")\n",
    "try:\n",
    "    with open(json_file_path, 'r', encoding='utf-8') as f:\n",
    "        # Load the entire JSON object from the file\n",
    "        json_data = json.load(f)\n",
    "    \n",
    "    # The 'length' is the number of top-level keys in the JSON object\n",
    "    json_length = len(json_data)\n",
    "    \n",
    "    print(f\"Result: The file contains {json_length} main entries (audio files).\\n\")\n",
    "\n",
    "except FileNotFoundError:\n",
    "    print(f\"Error: File '{json_file_path}' not found.\\n\")\n",
    "except json.JSONDecodeError:\n",
    "    print(f\"Error: Could not decode JSON from '{json_file_path}'. The file might be malformed.\\n\")\n",
    "except Exception as e:\n",
    "    print(f\"An error occurred: {e}\\n\")\n",
    "\n",
    "\n",
    "# --- 2. Calculate length for labels.txt ---\n",
    "print(f\"--- Analyzing '{txt_file_path}' ---\")\n",
    "try:\n",
    "    with open(txt_file_path, 'r', encoding='utf-8') as f:\n",
    "        # A memory-efficient way to count lines\n",
    "        txt_length = sum(1 for line in f)\n",
    "        \n",
    "    print(f\"Result: The file has {txt_length} lines.\")\n",
    "\n",
    "except FileNotFoundError:\n",
    "    print(f\"Error: File '{txt_file_path}' not found.\")\n",
    "except Exception as e:\n",
    "    print(f\"An error occurred: {e}\")"
   ]
  },
  {
   "cell_type": "code",
   "execution_count": 14,
   "id": "a7366ff3",
   "metadata": {},
   "outputs": [
    {
     "name": "stdout",
     "output_type": "stream",
     "text": [
      "Analyzing '../DATA/Labels/labels.txt' to count lines starting with 'MSP-PODCAST'...\n",
      "\n",
      "--- Analysis Complete ---\n",
      "Found 203936 lines that start with 'MSP-PODCAST'.\n"
     ]
    }
   ],
   "source": [
    "# The file to be analyzed\n",
    "file_path = os.path.join(LABELS_DIR, 'labels.txt')\n",
    "\n",
    "# The specific prefix we want to count\n",
    "# We are looking for lines that start with this text.\n",
    "target_prefix = 'MSP-PODCAST'\n",
    "\n",
    "# Initialize a counter to store the result\n",
    "count = 0\n",
    "\n",
    "print(f\"Analyzing '{file_path}' to count lines starting with '{target_prefix}'...\")\n",
    "\n",
    "try:\n",
    "    # Use 'with open' to safely open and automatically close the file\n",
    "    with open(file_path, 'r', encoding='utf-8') as f:\n",
    "        # Loop through each line in the file\n",
    "        for line in f:\n",
    "            # Check if the line (after removing any leading/trailing whitespace)\n",
    "            # starts with our target prefix\n",
    "            if line.strip().startswith(target_prefix):\n",
    "                # If it does, increment our counter\n",
    "                count += 1\n",
    "    \n",
    "    # After checking all lines, print the final count\n",
    "    print(\"\\n--- Analysis Complete ---\")\n",
    "    print(f\"Found {count} lines that start with '{target_prefix}'.\")\n",
    "\n",
    "except FileNotFoundError:\n",
    "    print(f\"Error: The file '{file_path}' was not found. Please check the path and filename.\")\n",
    "except Exception as e:\n",
    "    print(f\"An error occurred: {e}\")"
   ]
  }
 ],
 "metadata": {
  "kernelspec": {
   "display_name": "ser_env",
   "language": "python",
   "name": "python3"
  },
  "language_info": {
   "codemirror_mode": {
    "name": "ipython",
    "version": 3
   },
   "file_extension": ".py",
   "mimetype": "text/x-python",
   "name": "python",
   "nbconvert_exporter": "python",
   "pygments_lexer": "ipython3",
   "version": "3.10.13"
  }
 },
 "nbformat": 4,
 "nbformat_minor": 5
}
